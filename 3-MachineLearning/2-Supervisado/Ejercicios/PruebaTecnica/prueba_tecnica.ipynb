{
 "cells": [
  {
   "attachments": {},
   "cell_type": "markdown",
   "metadata": {},
   "source": [
    "Estimado candidato,\n",
    "\n",
    "Estamos encantados de que estés considerando unirte a nuestro equipo de ciencia de datos. Como parte de nuestro proceso de evaluación, te pedimos que completes la siguiente prueba técnica.\n",
    "\n",
    "**Descripción de la tarea:**\n",
    "\n",
    "Se te proporciona un conjunto de datos anónimos que consta de varias columnas nombradas como 'col1', 'col2', 'col3', etc., hasta 'col20', y una columna 'target' que representa la variable objetivo. Tu tarea es realizar un análisis exploratorio de datos (EDA) y construir un modelo de aprendizaje automático para predecir la variable 'target'.\n",
    "\n",
    "**Detalles de la tarea:**\n",
    "\n",
    "1. **Análisis exploratorio de datos (EDA):** Realiza un análisis exploratorio detallado de los datos. Esto debe incluir, pero no está limitado a:\n",
    "   - Estadísticas descriptivas de las variables (mínimo, máximo, media, mediana, desviación estándar, etc.).\n",
    "   - Verificación de valores perdidos o anómalos.\n",
    "   - Análisis de correlación entre las variables.\n",
    "   - Visualizaciones para entender mejor las distribuciones y relaciones de los datos.\n",
    "\n",
    "2. **Preprocesamiento de datos:** Prepárate para realizar cualquier limpieza o transformación necesaria de los datos basándote en tu EDA.\n",
    "\n",
    "3. **Creación de un modelo de línea base (Baseline):** Entrena varios modelos de aprendizaje automático para predecir la variable 'target'. Comienza con modelos sencillos como la regresión logística y avanza hacia modelos más complejos como los árboles de decisión, random forest, SVM, XGBoost, etc.\n",
    "\n",
    "4. **Evaluación del modelo:** Evalúa el rendimiento de cada modelo utilizando métricas apropiadas. Por ejemplo, si 'target' es una variable binaria, podrías considerar la precisión, la sensibilidad, la especificidad, el AUC-ROC, etc.\n",
    "\n",
    "5. **Selección del modelo:** Selecciona el modelo que creas que funciona mejor. Justifica tu elección basándote en las métricas de evaluación y cualquier otra consideración pertinente.\n",
    "\n",
    "6. **Predicción:** Usa tu modelo seleccionado para hacer predicciones en el conjunto de datos.\n",
    "\n",
    "**Entregables:**\n",
    "\n",
    "Por favor, proporciona el código que hayas utilizado para completar esta tarea, junto con un informe detallado que explique tu enfoque y los resultados. El informe debe estar bien estructurado y ser fácil de seguir, permitiendo a los evaluadores entender tu proceso de pensamiento y las decisiones que hayas tomado.\n",
    "\n",
    "¡Buena suerte y esperamos ver tu solución!"
   ]
  },
  {
   "cell_type": "markdown",
   "metadata": {},
   "source": [
    "# Análisis Exploratorio de Datos"
   ]
  },
  {
   "cell_type": "markdown",
   "metadata": {},
   "source": [
    "## Librerias"
   ]
  },
  {
   "cell_type": "code",
   "execution_count": 36,
   "metadata": {},
   "outputs": [],
   "source": [
    "import pandas as pd\n",
    "import re\n",
    "import numpy as np\n",
    "from sklearn.preprocessing import LabelEncoder\n",
    "from sklearn.preprocessing import StandardScaler\n",
    "import matplotlib.pyplot as plt\n",
    "import seaborn as sns\n",
    "import urllib.request\n",
    "from PIL import Image\n",
    "from xgboost import XGBRegressor\n",
    "from sklearn.model_selection import train_test_split\n",
    "from sklearn.ensemble import RandomForestClassifier\n",
    "from sklearn.metrics import classification_report, confusion_matrix\n",
    "from sklearn.metrics import classification_report, confusion_matrix, mean_squared_error, r2_score\n",
    "from sklearn.linear_model import LogisticRegression\n",
    "from sklearn.neighbors import KNeighborsClassifier\n",
    "from sklearn.svm import SVC\n",
    "from sklearn.tree import DecisionTreeClassifier\n",
    "from sklearn.model_selection import GridSearchCV\n",
    "from sklearn.feature_selection import SelectFromModel"
   ]
  },
  {
   "cell_type": "markdown",
   "metadata": {},
   "source": [
    "## Carga de Datos"
   ]
  },
  {
   "cell_type": "code",
   "execution_count": 2,
   "metadata": {},
   "outputs": [],
   "source": [
    "train_df = pd.read_csv('./data/train.csv')\n",
    "test_df = pd.read_csv('./data/test.csv')\n",
    "\n"
   ]
  },
  {
   "cell_type": "markdown",
   "metadata": {},
   "source": [
    "## Exploración de Datos"
   ]
  },
  {
   "cell_type": "code",
   "execution_count": 3,
   "metadata": {},
   "outputs": [
    {
     "name": "stdout",
     "output_type": "stream",
     "text": [
      "<class 'pandas.core.frame.DataFrame'>\n",
      "RangeIndex: 5597 entries, 0 to 5596\n",
      "Data columns (total 22 columns):\n",
      " #   Column  Non-Null Count  Dtype  \n",
      "---  ------  --------------  -----  \n",
      " 0   ID      5597 non-null   int64  \n",
      " 1   col1    5597 non-null   float64\n",
      " 2   col2    5597 non-null   float64\n",
      " 3   col3    5597 non-null   float64\n",
      " 4   col4    5597 non-null   float64\n",
      " 5   col5    5597 non-null   float64\n",
      " 6   col6    5597 non-null   float64\n",
      " 7   col7    5597 non-null   float64\n",
      " 8   col8    5597 non-null   float64\n",
      " 9   col9    5597 non-null   float64\n",
      " 10  col10   5597 non-null   float64\n",
      " 11  col11   5597 non-null   float64\n",
      " 12  col12   5597 non-null   float64\n",
      " 13  col13   5597 non-null   float64\n",
      " 14  col14   5597 non-null   float64\n",
      " 15  col15   5597 non-null   float64\n",
      " 16  col16   5597 non-null   float64\n",
      " 17  col17   5597 non-null   float64\n",
      " 18  col18   5597 non-null   float64\n",
      " 19  col19   5597 non-null   float64\n",
      " 20  col20   5597 non-null   float64\n",
      " 21  target  5597 non-null   int64  \n",
      "dtypes: float64(20), int64(2)\n",
      "memory usage: 962.1 KB\n"
     ]
    }
   ],
   "source": [
    "train_df.info()"
   ]
  },
  {
   "cell_type": "code",
   "execution_count": 4,
   "metadata": {},
   "outputs": [
    {
     "data": {
      "text/plain": [
       "ID        0\n",
       "col1      0\n",
       "col2      0\n",
       "col3      0\n",
       "col4      0\n",
       "col5      0\n",
       "col6      0\n",
       "col7      0\n",
       "col8      0\n",
       "col9      0\n",
       "col10     0\n",
       "col11     0\n",
       "col12     0\n",
       "col13     0\n",
       "col14     0\n",
       "col15     0\n",
       "col16     0\n",
       "col17     0\n",
       "col18     0\n",
       "col19     0\n",
       "col20     0\n",
       "target    0\n",
       "dtype: int64"
      ]
     },
     "execution_count": 4,
     "metadata": {},
     "output_type": "execute_result"
    }
   ],
   "source": [
    "train_df.isnull().sum()"
   ]
  },
  {
   "cell_type": "code",
   "execution_count": 5,
   "metadata": {},
   "outputs": [
    {
     "data": {
      "text/html": [
       "<div>\n",
       "<style scoped>\n",
       "    .dataframe tbody tr th:only-of-type {\n",
       "        vertical-align: middle;\n",
       "    }\n",
       "\n",
       "    .dataframe tbody tr th {\n",
       "        vertical-align: top;\n",
       "    }\n",
       "\n",
       "    .dataframe thead th {\n",
       "        text-align: right;\n",
       "    }\n",
       "</style>\n",
       "<table border=\"1\" class=\"dataframe\">\n",
       "  <thead>\n",
       "    <tr style=\"text-align: right;\">\n",
       "      <th></th>\n",
       "      <th>ID</th>\n",
       "      <th>col1</th>\n",
       "      <th>col2</th>\n",
       "      <th>col3</th>\n",
       "      <th>col4</th>\n",
       "      <th>col5</th>\n",
       "      <th>col6</th>\n",
       "      <th>col7</th>\n",
       "      <th>col8</th>\n",
       "      <th>col9</th>\n",
       "      <th>...</th>\n",
       "      <th>col12</th>\n",
       "      <th>col13</th>\n",
       "      <th>col14</th>\n",
       "      <th>col15</th>\n",
       "      <th>col16</th>\n",
       "      <th>col17</th>\n",
       "      <th>col18</th>\n",
       "      <th>col19</th>\n",
       "      <th>col20</th>\n",
       "      <th>target</th>\n",
       "    </tr>\n",
       "  </thead>\n",
       "  <tbody>\n",
       "    <tr>\n",
       "      <th>count</th>\n",
       "      <td>5597.000000</td>\n",
       "      <td>5597.000000</td>\n",
       "      <td>5597.000000</td>\n",
       "      <td>5597.000000</td>\n",
       "      <td>5597.000000</td>\n",
       "      <td>5597.000000</td>\n",
       "      <td>5597.000000</td>\n",
       "      <td>5597.000000</td>\n",
       "      <td>5597.000000</td>\n",
       "      <td>5597.000000</td>\n",
       "      <td>...</td>\n",
       "      <td>5597.000000</td>\n",
       "      <td>5597.000000</td>\n",
       "      <td>5597.000000</td>\n",
       "      <td>5597.000000</td>\n",
       "      <td>5597.000000</td>\n",
       "      <td>5597.000000</td>\n",
       "      <td>5597.000000</td>\n",
       "      <td>5597.000000</td>\n",
       "      <td>5597.000000</td>\n",
       "      <td>5597.000000</td>\n",
       "    </tr>\n",
       "    <tr>\n",
       "      <th>mean</th>\n",
       "      <td>3962.909952</td>\n",
       "      <td>0.674797</td>\n",
       "      <td>14.438840</td>\n",
       "      <td>0.163603</td>\n",
       "      <td>1.579702</td>\n",
       "      <td>0.042747</td>\n",
       "      <td>2.213093</td>\n",
       "      <td>0.250890</td>\n",
       "      <td>0.807654</td>\n",
       "      <td>0.766057</td>\n",
       "      <td>...</td>\n",
       "      <td>0.100050</td>\n",
       "      <td>9.819267</td>\n",
       "      <td>1.331880</td>\n",
       "      <td>0.005194</td>\n",
       "      <td>16.621249</td>\n",
       "      <td>2.931896</td>\n",
       "      <td>0.049602</td>\n",
       "      <td>0.149855</td>\n",
       "      <td>0.044999</td>\n",
       "      <td>0.114347</td>\n",
       "    </tr>\n",
       "    <tr>\n",
       "      <th>std</th>\n",
       "      <td>2311.129964</td>\n",
       "      <td>1.273677</td>\n",
       "      <td>8.851097</td>\n",
       "      <td>0.254659</td>\n",
       "      <td>1.221220</td>\n",
       "      <td>0.036072</td>\n",
       "      <td>2.581244</td>\n",
       "      <td>0.272472</td>\n",
       "      <td>0.652471</td>\n",
       "      <td>0.436435</td>\n",
       "      <td>...</td>\n",
       "      <td>0.057997</td>\n",
       "      <td>5.581795</td>\n",
       "      <td>0.568734</td>\n",
       "      <td>0.002960</td>\n",
       "      <td>17.729833</td>\n",
       "      <td>2.327347</td>\n",
       "      <td>0.028827</td>\n",
       "      <td>0.144170</td>\n",
       "      <td>0.026929</td>\n",
       "      <td>0.318261</td>\n",
       "    </tr>\n",
       "    <tr>\n",
       "      <th>min</th>\n",
       "      <td>0.000000</td>\n",
       "      <td>0.000000</td>\n",
       "      <td>-0.080000</td>\n",
       "      <td>0.000000</td>\n",
       "      <td>0.000000</td>\n",
       "      <td>0.000000</td>\n",
       "      <td>0.000000</td>\n",
       "      <td>0.000000</td>\n",
       "      <td>0.000000</td>\n",
       "      <td>0.000000</td>\n",
       "      <td>...</td>\n",
       "      <td>0.001000</td>\n",
       "      <td>0.010000</td>\n",
       "      <td>0.000000</td>\n",
       "      <td>0.000000</td>\n",
       "      <td>0.000000</td>\n",
       "      <td>0.000000</td>\n",
       "      <td>0.000000</td>\n",
       "      <td>0.000000</td>\n",
       "      <td>0.000000</td>\n",
       "      <td>0.000000</td>\n",
       "    </tr>\n",
       "    <tr>\n",
       "      <th>25%</th>\n",
       "      <td>1963.000000</td>\n",
       "      <td>0.040000</td>\n",
       "      <td>6.850000</td>\n",
       "      <td>0.030000</td>\n",
       "      <td>0.550000</td>\n",
       "      <td>0.008000</td>\n",
       "      <td>0.100000</td>\n",
       "      <td>0.050000</td>\n",
       "      <td>0.090000</td>\n",
       "      <td>0.400000</td>\n",
       "      <td>...</td>\n",
       "      <td>0.049000</td>\n",
       "      <td>4.940000</td>\n",
       "      <td>1.010000</td>\n",
       "      <td>0.003000</td>\n",
       "      <td>2.220000</td>\n",
       "      <td>0.820000</td>\n",
       "      <td>0.020000</td>\n",
       "      <td>0.040000</td>\n",
       "      <td>0.020000</td>\n",
       "      <td>0.000000</td>\n",
       "    </tr>\n",
       "    <tr>\n",
       "      <th>50%</th>\n",
       "      <td>3922.000000</td>\n",
       "      <td>0.070000</td>\n",
       "      <td>14.390000</td>\n",
       "      <td>0.050000</td>\n",
       "      <td>1.210000</td>\n",
       "      <td>0.040000</td>\n",
       "      <td>0.550000</td>\n",
       "      <td>0.090000</td>\n",
       "      <td>0.750000</td>\n",
       "      <td>0.760000</td>\n",
       "      <td>...</td>\n",
       "      <td>0.103000</td>\n",
       "      <td>9.860000</td>\n",
       "      <td>1.420000</td>\n",
       "      <td>0.005000</td>\n",
       "      <td>7.840000</td>\n",
       "      <td>2.430000</td>\n",
       "      <td>0.050000</td>\n",
       "      <td>0.080000</td>\n",
       "      <td>0.050000</td>\n",
       "      <td>0.000000</td>\n",
       "    </tr>\n",
       "    <tr>\n",
       "      <th>75%</th>\n",
       "      <td>5960.000000</td>\n",
       "      <td>0.290000</td>\n",
       "      <td>22.260000</td>\n",
       "      <td>0.100000</td>\n",
       "      <td>2.510000</td>\n",
       "      <td>0.070000</td>\n",
       "      <td>4.330000</td>\n",
       "      <td>0.450000</td>\n",
       "      <td>1.390000</td>\n",
       "      <td>1.160000</td>\n",
       "      <td>...</td>\n",
       "      <td>0.151000</td>\n",
       "      <td>14.690000</td>\n",
       "      <td>1.760000</td>\n",
       "      <td>0.008000</td>\n",
       "      <td>29.980000</td>\n",
       "      <td>4.670000</td>\n",
       "      <td>0.070000</td>\n",
       "      <td>0.250000</td>\n",
       "      <td>0.070000</td>\n",
       "      <td>0.000000</td>\n",
       "    </tr>\n",
       "    <tr>\n",
       "      <th>max</th>\n",
       "      <td>7993.000000</td>\n",
       "      <td>5.050000</td>\n",
       "      <td>29.840000</td>\n",
       "      <td>1.050000</td>\n",
       "      <td>4.940000</td>\n",
       "      <td>0.130000</td>\n",
       "      <td>8.660000</td>\n",
       "      <td>0.900000</td>\n",
       "      <td>2.000000</td>\n",
       "      <td>1.500000</td>\n",
       "      <td>...</td>\n",
       "      <td>0.200000</td>\n",
       "      <td>19.820000</td>\n",
       "      <td>2.890000</td>\n",
       "      <td>0.010000</td>\n",
       "      <td>60.010000</td>\n",
       "      <td>7.990000</td>\n",
       "      <td>0.100000</td>\n",
       "      <td>0.500000</td>\n",
       "      <td>0.090000</td>\n",
       "      <td>1.000000</td>\n",
       "    </tr>\n",
       "  </tbody>\n",
       "</table>\n",
       "<p>8 rows × 22 columns</p>\n",
       "</div>"
      ],
      "text/plain": [
       "                ID         col1         col2         col3         col4  \\\n",
       "count  5597.000000  5597.000000  5597.000000  5597.000000  5597.000000   \n",
       "mean   3962.909952     0.674797    14.438840     0.163603     1.579702   \n",
       "std    2311.129964     1.273677     8.851097     0.254659     1.221220   \n",
       "min       0.000000     0.000000    -0.080000     0.000000     0.000000   \n",
       "25%    1963.000000     0.040000     6.850000     0.030000     0.550000   \n",
       "50%    3922.000000     0.070000    14.390000     0.050000     1.210000   \n",
       "75%    5960.000000     0.290000    22.260000     0.100000     2.510000   \n",
       "max    7993.000000     5.050000    29.840000     1.050000     4.940000   \n",
       "\n",
       "              col5         col6         col7         col8         col9  ...  \\\n",
       "count  5597.000000  5597.000000  5597.000000  5597.000000  5597.000000  ...   \n",
       "mean      0.042747     2.213093     0.250890     0.807654     0.766057  ...   \n",
       "std       0.036072     2.581244     0.272472     0.652471     0.436435  ...   \n",
       "min       0.000000     0.000000     0.000000     0.000000     0.000000  ...   \n",
       "25%       0.008000     0.100000     0.050000     0.090000     0.400000  ...   \n",
       "50%       0.040000     0.550000     0.090000     0.750000     0.760000  ...   \n",
       "75%       0.070000     4.330000     0.450000     1.390000     1.160000  ...   \n",
       "max       0.130000     8.660000     0.900000     2.000000     1.500000  ...   \n",
       "\n",
       "             col12        col13        col14        col15        col16  \\\n",
       "count  5597.000000  5597.000000  5597.000000  5597.000000  5597.000000   \n",
       "mean      0.100050     9.819267     1.331880     0.005194    16.621249   \n",
       "std       0.057997     5.581795     0.568734     0.002960    17.729833   \n",
       "min       0.001000     0.010000     0.000000     0.000000     0.000000   \n",
       "25%       0.049000     4.940000     1.010000     0.003000     2.220000   \n",
       "50%       0.103000     9.860000     1.420000     0.005000     7.840000   \n",
       "75%       0.151000    14.690000     1.760000     0.008000    29.980000   \n",
       "max       0.200000    19.820000     2.890000     0.010000    60.010000   \n",
       "\n",
       "             col17        col18        col19        col20       target  \n",
       "count  5597.000000  5597.000000  5597.000000  5597.000000  5597.000000  \n",
       "mean      2.931896     0.049602     0.149855     0.044999     0.114347  \n",
       "std       2.327347     0.028827     0.144170     0.026929     0.318261  \n",
       "min       0.000000     0.000000     0.000000     0.000000     0.000000  \n",
       "25%       0.820000     0.020000     0.040000     0.020000     0.000000  \n",
       "50%       2.430000     0.050000     0.080000     0.050000     0.000000  \n",
       "75%       4.670000     0.070000     0.250000     0.070000     0.000000  \n",
       "max       7.990000     0.100000     0.500000     0.090000     1.000000  \n",
       "\n",
       "[8 rows x 22 columns]"
      ]
     },
     "execution_count": 5,
     "metadata": {},
     "output_type": "execute_result"
    }
   ],
   "source": [
    "train_df.describe()"
   ]
  },
  {
   "cell_type": "markdown",
   "metadata": {},
   "source": [
    "## Eliminación de colummnas innecesarias"
   ]
  },
  {
   "cell_type": "code",
   "execution_count": 6,
   "metadata": {},
   "outputs": [],
   "source": [
    "train_df.drop(columns=['ID'], inplace=True)\n",
    "test_df.drop(columns=['ID'], inplace=True)"
   ]
  },
  {
   "cell_type": "code",
   "execution_count": 7,
   "metadata": {},
   "outputs": [
    {
     "name": "stdout",
     "output_type": "stream",
     "text": [
      "\n",
      "Eliminando columnas altamente correlacionadas: []\n"
     ]
    }
   ],
   "source": [
    "correlation_matrix = train_df.corr().abs()\n",
    "upper_tri = correlation_matrix.where(np.triu(np.ones(correlation_matrix.shape), k=1).astype(bool))\n",
    "highly_correlated_features = [column for column in upper_tri.columns if any(upper_tri[column] > 0.85)]\n",
    "print(\"\\nEliminando columnas altamente correlacionadas:\", highly_correlated_features)\n",
    "train_df.drop(columns=highly_correlated_features, inplace=True)\n",
    "test_df.drop(columns=[col for col in highly_correlated_features if col in test_df.columns], inplace=True)"
   ]
  },
  {
   "cell_type": "code",
   "execution_count": 8,
   "metadata": {},
   "outputs": [
    {
     "name": "stdout",
     "output_type": "stream",
     "text": [
      "\n",
      "Eliminando columnas con baja variabilidad: ['col15']\n"
     ]
    }
   ],
   "source": [
    "low_variance_features = train_df.std()[train_df.std() < 0.01].index.tolist()\n",
    "print(\"\\nEliminando columnas con baja variabilidad:\", low_variance_features)\n",
    "train_df.drop(columns=low_variance_features, inplace=True)\n",
    "test_df.drop(columns=[col for col in low_variance_features if col in test_df.columns], inplace=True)"
   ]
  },
  {
   "cell_type": "code",
   "execution_count": 9,
   "metadata": {},
   "outputs": [
    {
     "name": "stdout",
     "output_type": "stream",
     "text": [
      "\n",
      "Eliminando columnas adicionales basadas en análisis gráfico: ['col16', 'col5', 'col7', 'col8', 'col9', 'col10', 'col18', 'col19', 'col20', 'col3', 'col11']\n"
     ]
    }
   ],
   "source": [
    "drop_columns = ['col16', 'col5', 'col7', 'col8', 'col9', 'col10', 'col18', 'col19', 'col20', 'col3', 'col11']\n",
    "print(\"\\nEliminando columnas adicionales basadas en análisis gráfico:\", drop_columns)\n",
    "train_df.drop(columns=drop_columns, inplace=True, errors='ignore')\n",
    "test_df.drop(columns=[col for col in drop_columns if col in test_df.columns], inplace=True, errors='ignore')"
   ]
  },
  {
   "cell_type": "markdown",
   "metadata": {},
   "source": [
    "## Graficas"
   ]
  },
  {
   "cell_type": "code",
   "execution_count": 10,
   "metadata": {},
   "outputs": [
    {
     "data": {
      "image/png": "[encoded data removed]",
      "text/plain": [
       "<Figure size 1500x1000 with 9 Axes>"
      ]
     },
     "metadata": {},
     "output_type": "display_data"
    },
    {
     "data": {
      "image/png": "[encoded data removed]",
      "text/plain": [
       "<Figure size 1200x800 with 2 Axes>"
      ]
     },
     "metadata": {},
     "output_type": "display_data"
    },
    {
     "data": {
      "image/png": "[encoded data removed]",
      "text/plain": [
       "<Figure size 1500x600 with 1 Axes>"
      ]
     },
     "metadata": {},
     "output_type": "display_data"
    }
   ],
   "source": [
    "# Histogramas de las variables predictoras\n",
    "train_df.hist(figsize=(15, 10), bins=30)\n",
    "plt.suptitle(\"Distribución de las variables predictoras\")\n",
    "plt.show()\n",
    "\n",
    "# Matriz de correlación\n",
    "plt.figure(figsize=(12, 8))\n",
    "sns.heatmap(train_df.corr(), annot=False, cmap='coolwarm', linewidths=0.5)\n",
    "plt.title(\"Matriz de correlación entre variables\")\n",
    "plt.show()\n",
    "\n",
    "# Boxplots para identificar valores atípicos\n",
    "plt.figure(figsize=(15, 6))\n",
    "train_df.drop(columns=['target'], inplace=False).boxplot(rot=90)\n",
    "plt.title(\"Boxplot de las variables predictoras (sin target)\")\n",
    "plt.show()"
   ]
  },
  {
   "cell_type": "markdown",
   "metadata": {},
   "source": [
    "## Modelos de Predicción"
   ]
  },
  {
   "cell_type": "code",
   "execution_count": 11,
   "metadata": {},
   "outputs": [],
   "source": [
    "X = train_df.drop(columns=['target'])\n",
    "y = train_df['target']\n",
    "X_train, X_val, y_train, y_val = train_test_split(X, y, test_size=0.2, random_state=42)"
   ]
  },
  {
   "cell_type": "markdown",
   "metadata": {},
   "source": [
    "## Transformación "
   ]
  },
  {
   "cell_type": "code",
   "execution_count": 12,
   "metadata": {},
   "outputs": [],
   "source": [
    "scaler = StandardScaler()\n",
    "X_train = scaler.fit_transform(X_train)\n",
    "X_val = scaler.transform(X_val)"
   ]
  },
  {
   "cell_type": "markdown",
   "metadata": {},
   "source": [
    "### Regresión lineal"
   ]
  },
  {
   "cell_type": "code",
   "execution_count": 29,
   "metadata": {},
   "outputs": [
    {
     "name": "stdout",
     "output_type": "stream",
     "text": [
      "\n",
      "Modelo: Regresión Logística\n",
      "Matriz de confusión:\n",
      "[[971  21]\n",
      " [111  17]]\n",
      "Reporte de clasificación:\n",
      "              precision    recall  f1-score   support\n",
      "\n",
      "           0       0.90      0.98      0.94       992\n",
      "           1       0.45      0.13      0.20       128\n",
      "\n",
      "    accuracy                           0.88      1120\n",
      "   macro avg       0.67      0.56      0.57      1120\n",
      "weighted avg       0.85      0.88      0.85      1120\n",
      "\n"
     ]
    }
   ],
   "source": [
    "print(\"\\nModelo: Regresión Logística\")\n",
    "logreg = LogisticRegression(max_iter=1000, random_state=42, class_weight={0: 0.6, 1: 0.4})\n",
    "logreg.fit(X_train, y_train)\n",
    "y_prob = logreg.predict_proba(X_val)[:, 1]\n",
    "y_pred_log = (y_prob >= 0.35).astype(int)\n",
    "print(\"Matriz de confusión:\")\n",
    "print(confusion_matrix(y_val, y_pred_log))\n",
    "print(\"Reporte de clasificación:\")\n",
    "print(classification_report(y_val, y_pred_log))"
   ]
  },
  {
   "cell_type": "markdown",
   "metadata": {},
   "source": [
    "Esta dectectando el target pero el recall es muy bajo"
   ]
  },
  {
   "cell_type": "markdown",
   "metadata": {},
   "source": [
    "### Random Forest"
   ]
  },
  {
   "cell_type": "code",
   "execution_count": 32,
   "metadata": {},
   "outputs": [
    {
     "name": "stdout",
     "output_type": "stream",
     "text": [
      "\n",
      "Modelo: Random Forest\n",
      "Matriz de confusión:\n",
      "[[961  31]\n",
      " [101  27]]\n",
      "Reporte de clasificación:\n",
      "              precision    recall  f1-score   support\n",
      "\n",
      "           0       0.90      0.97      0.94       992\n",
      "           1       0.47      0.21      0.29       128\n",
      "\n",
      "    accuracy                           0.88      1120\n",
      "   macro avg       0.69      0.59      0.61      1120\n",
      "weighted avg       0.85      0.88      0.86      1120\n",
      "\n"
     ]
    }
   ],
   "source": [
    "print(\"\\nModelo: Random Forest\")\n",
    "param_grid = {\n",
    "    'n_estimators': [100, 200],\n",
    "    'max_depth': [None, 10, 20]\n",
    "}\n",
    "rf = GridSearchCV(RandomForestClassifier(random_state=42, class_weight={0: 0.6, 1: 0.4}), param_grid, cv=3, scoring='recall')\n",
    "rf.fit(X_train, y_train)\n",
    "y_pred_rf = rf.best_estimator_.predict(X_val)\n",
    "print(\"Matriz de confusión:\")\n",
    "print(confusion_matrix(y_val, y_pred_rf))\n",
    "print(\"Reporte de clasificación:\")\n",
    "print(classification_report(y_val, y_pred_rf))\n",
    "\n"
   ]
  },
  {
   "cell_type": "markdown",
   "metadata": {},
   "source": [
    "Tiene mejores resultados que el modelo anterior, pero, aun es bajo el recall"
   ]
  },
  {
   "cell_type": "code",
   "execution_count": 41,
   "metadata": {},
   "outputs": [
    {
     "name": "stdout",
     "output_type": "stream",
     "text": [
      "\n",
      "Realizando selección de características con Random Forest\n",
      "Características seleccionadas: Index(['col1', 'col6'], dtype='object')\n"
     ]
    }
   ],
   "source": [
    "print(\"\\nRealizando selección de características con Random Forest\")\n",
    "feature_selector = RandomForestClassifier(n_estimators=100, random_state=42)\n",
    "feature_selector.fit(X_train, y_train)\n",
    "selector = SelectFromModel(feature_selector, prefit=True)\n",
    "X_train_selected = selector.transform(X_train)\n",
    "X_val_selected = selector.transform(X_val)\n",
    "selected_features = X.columns[selector.get_support()]\n",
    "print(\"Características seleccionadas:\", selected_features)"
   ]
  },
  {
   "cell_type": "code",
   "execution_count": 42,
   "metadata": {},
   "outputs": [
    {
     "name": "stdout",
     "output_type": "stream",
     "text": [
      "\n",
      "Modelo: Random Forest - Optimización de hiperparámetros\n",
      "Matriz de confusión:\n",
      "[[932  60]\n",
      " [105  23]]\n",
      "Reporte de clasificación:\n",
      "              precision    recall  f1-score   support\n",
      "\n",
      "           0       0.90      0.94      0.92       992\n",
      "           1       0.28      0.18      0.22       128\n",
      "\n",
      "    accuracy                           0.85      1120\n",
      "   macro avg       0.59      0.56      0.57      1120\n",
      "weighted avg       0.83      0.85      0.84      1120\n",
      "\n"
     ]
    }
   ],
   "source": [
    "print(\"\\nModelo: Random Forest - Optimización de hiperparámetros\")\n",
    "param_grid = {\n",
    "    'n_estimators': [100, 200],\n",
    "    'max_depth': [None, 10],\n",
    "    'min_samples_split': [2, 5],\n",
    "    'min_samples_leaf': [1, 2]\n",
    "}\n",
    "rf = GridSearchCV(RandomForestClassifier(random_state=42, class_weight={0: 0.6, 1: 0.4}), param_grid, cv=3, scoring='recall', n_jobs=-1)\n",
    "rf.fit(X_train_selected, y_train)\n",
    "y_pred_rf = rf.best_estimator_.predict(X_val_selected)\n",
    "print(\"Matriz de confusión:\")\n",
    "print(confusion_matrix(y_val, y_pred_rf))\n",
    "print(\"Reporte de clasificación:\")\n",
    "print(classification_report(y_val, y_pred_rf))"
   ]
  },
  {
   "cell_type": "markdown",
   "metadata": {},
   "source": [
    "notas: mejora los resultados en comparación a otros modelos, pero, no es el mejor. Me estoy quedando sin ideas"
   ]
  },
  {
   "cell_type": "markdown",
   "metadata": {},
   "source": [
    "### KNN"
   ]
  },
  {
   "cell_type": "code",
   "execution_count": 33,
   "metadata": {},
   "outputs": [
    {
     "name": "stdout",
     "output_type": "stream",
     "text": [
      "\n",
      "Modelo: K-Nearest Neighbors\n",
      "\n",
      "Matriz de confusión:\n",
      "[[958  34]\n",
      " [110  18]]\n",
      "\n",
      "Reporte de clasificación:\n",
      "              precision    recall  f1-score   support\n",
      "\n",
      "           0       0.90      0.97      0.93       992\n",
      "           1       0.35      0.14      0.20       128\n",
      "\n",
      "    accuracy                           0.87      1120\n",
      "   macro avg       0.62      0.55      0.57      1120\n",
      "weighted avg       0.83      0.87      0.85      1120\n",
      "\n"
     ]
    }
   ],
   "source": [
    "print(\"\\nModelo: K-Nearest Neighbors\")\n",
    "knn = KNeighborsClassifier()\n",
    "knn.fit(X_train, y_train)\n",
    "y_pred_knn = knn.predict(X_val)\n",
    "print(\"\\nMatriz de confusión:\")\n",
    "print(confusion_matrix(y_val, y_pred_knn))\n",
    "print(\"\\nReporte de clasificación:\")\n",
    "print(classification_report(y_val, y_pred_knn))"
   ]
  },
  {
   "cell_type": "markdown",
   "metadata": {},
   "source": [
    "No me sirve para nada este modelo porque no tiene presicion"
   ]
  },
  {
   "cell_type": "markdown",
   "metadata": {},
   "source": [
    "### SVM"
   ]
  },
  {
   "cell_type": "code",
   "execution_count": 34,
   "metadata": {},
   "outputs": [
    {
     "name": "stdout",
     "output_type": "stream",
     "text": [
      "\n",
      "Modelo: SVM\n",
      "Matriz de confusión:\n",
      "[[992   0]\n",
      " [128   0]]\n",
      "Reporte de clasificación:\n",
      "              precision    recall  f1-score   support\n",
      "\n",
      "           0       0.89      1.00      0.94       992\n",
      "           1       0.00      0.00      0.00       128\n",
      "\n",
      "    accuracy                           0.89      1120\n",
      "   macro avg       0.44      0.50      0.47      1120\n",
      "weighted avg       0.78      0.89      0.83      1120\n",
      "\n"
     ]
    },
    {
     "name": "stderr",
     "output_type": "stream",
     "text": [
      "c:\\Users\\garci\\AppData\\Local\\pypoetry\\Cache\\virtualenvs\\bootcamp-ds-wXHT794i-py3.12\\Lib\\site-packages\\sklearn\\metrics\\_classification.py:1565: UndefinedMetricWarning: Precision is ill-defined and being set to 0.0 in labels with no predicted samples. Use `zero_division` parameter to control this behavior.\n",
      "  _warn_prf(average, modifier, f\"{metric.capitalize()} is\", len(result))\n",
      "c:\\Users\\garci\\AppData\\Local\\pypoetry\\Cache\\virtualenvs\\bootcamp-ds-wXHT794i-py3.12\\Lib\\site-packages\\sklearn\\metrics\\_classification.py:1565: UndefinedMetricWarning: Precision is ill-defined and being set to 0.0 in labels with no predicted samples. Use `zero_division` parameter to control this behavior.\n",
      "  _warn_prf(average, modifier, f\"{metric.capitalize()} is\", len(result))\n",
      "c:\\Users\\garci\\AppData\\Local\\pypoetry\\Cache\\virtualenvs\\bootcamp-ds-wXHT794i-py3.12\\Lib\\site-packages\\sklearn\\metrics\\_classification.py:1565: UndefinedMetricWarning: Precision is ill-defined and being set to 0.0 in labels with no predicted samples. Use `zero_division` parameter to control this behavior.\n",
      "  _warn_prf(average, modifier, f\"{metric.capitalize()} is\", len(result))\n"
     ]
    }
   ],
   "source": [
    "print(\"\\nModelo: SVM\")\n",
    "svm = SVC(probability=True, random_state=42, class_weight={0: 0.6, 1: 0.4})\n",
    "svm.fit(X_train, y_train)\n",
    "y_pred_svm = svm.predict(X_val)\n",
    "print(\"Matriz de confusión:\")\n",
    "print(confusion_matrix(y_val, y_pred_svm))\n",
    "print(\"Reporte de clasificación:\")\n",
    "print(classification_report(y_val, y_pred_svm))"
   ]
  },
  {
   "cell_type": "markdown",
   "metadata": {},
   "source": [
    "No decteca la target "
   ]
  },
  {
   "cell_type": "markdown",
   "metadata": {},
   "source": [
    "### Arbol de decision"
   ]
  },
  {
   "cell_type": "code",
   "execution_count": 35,
   "metadata": {},
   "outputs": [
    {
     "name": "stdout",
     "output_type": "stream",
     "text": [
      "\n",
      "Modelo: Árbol de Decisión\n",
      "\n",
      "Matriz de confusión:\n",
      "[[896  96]\n",
      " [ 83  45]]\n",
      "\n",
      "Reporte de clasificación:\n",
      "              precision    recall  f1-score   support\n",
      "\n",
      "           0       0.92      0.90      0.91       992\n",
      "           1       0.32      0.35      0.33       128\n",
      "\n",
      "    accuracy                           0.84      1120\n",
      "   macro avg       0.62      0.63      0.62      1120\n",
      "weighted avg       0.85      0.84      0.84      1120\n",
      "\n"
     ]
    }
   ],
   "source": [
    "print(\"\\nModelo: Árbol de Decisión\")\n",
    "dt = DecisionTreeClassifier(random_state=42)\n",
    "dt.fit(X_train, y_train)\n",
    "y_pred_dt = dt.predict(X_val)\n",
    "print(\"\\nMatriz de confusión:\")\n",
    "print(confusion_matrix(y_val, y_pred_dt))\n",
    "print(\"\\nReporte de clasificación:\")\n",
    "print(classification_report(y_val, y_pred_dt))"
   ]
  },
  {
   "cell_type": "markdown",
   "metadata": {},
   "source": [
    "Mejor recall, pero sacrificando precisión."
   ]
  }
 ],
 "metadata": {
  "kernelspec": {
   "display_name": "bootcamp-ds-wXHT794i-py3.12",
   "language": "python",
   "name": "python3"
  },
  "language_info": {
   "codemirror_mode": {
    "name": "ipython",
    "version": 3
   },
   "file_extension": ".py",
   "mimetype": "text/x-python",
   "name": "python",
   "nbconvert_exporter": "python",
   "pygments_lexer": "ipython3",
   "version": "3.12.6"
  },
  "orig_nbformat": 4
 },
 "nbformat": 4,
 "nbformat_minor": 2
}
