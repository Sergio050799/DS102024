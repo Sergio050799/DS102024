{
 "cells": [
  {
   "cell_type": "markdown",
   "metadata": {},
   "source": [
    "# Ejercicio: Generador de Gráficos Automático\n",
    "\n",
    "## Instrucciones:\n",
    "1. Crea una clase llamada `AutoPlot`.\n",
    "\n",
    "2. La clase debe tener tres métodos principales:\n",
    "   - `univariate_plot`: para gráficos univariantes.\n",
    "   - `bivariate_plot`: para gráficos bivariantes.\n",
    "   - `multivariate_plot`: para gráficos multivariantes.\n",
    "\n",
    "3. Cada método debe recibir como argumentos:\n",
    "   - `data`: un DataFrame de pandas que contiene los datos.\n",
    "   - `variables`: una lista de nombres de columnas.\n",
    "   - `types`: una lista de tipos correspondientes a cada columna (nominal, ordinal, continuo, discreto, fecha).\n",
    "   \n",
    "4. Los métodos deben seleccionar y generar automáticamente el gráfico más adecuado basado en los tipos de variables.\n"
   ]
  },
  {
   "cell_type": "code",
   "execution_count": 2,
   "metadata": {},
   "outputs": [],
   "source": [
    "import pandas as pd\n",
    "import seaborn as sns\n",
    "import matplotlib.pyplot as plt\n",
    "\n",
    "class AutoPlot:\n",
    "    def __init__(self):\n",
    "        pass\n",
    "\n",
    "    def univariate_plot(self, data, variables, types):\n",
    "        for var, typ in zip(variables, types):\n",
    "            plt.figure()\n",
    "            if typ in ['nominal', 'ordinal']:\n",
    "                sns.countplot(x=var, data=data)\n",
    "            elif typ in ['continuo', 'discreto']:\n",
    "                sns.histplot(data[var], kde=True)\n",
    "            elif typ == 'fecha':\n",
    "                data[var] = pd.to_datetime(data[var])\n",
    "                data[var].value_counts().plot(kind='line')\n",
    "            plt.title(f'Univariate Plot of {var}')\n",
    "            plt.show()\n",
    "\n",
    "    def bivariate_plot(self, data, variables, types):\n",
    "        if len(variables) != 2:\n",
    "            raise ValueError(\"Bivariate plot requires exactly two variables.\")\n",
    "        plt.figure()\n",
    "        var1, var2 = variables\n",
    "        type1, type2 = types\n",
    "        if 'nominal' in types or 'ordinal' in types:\n",
    "            sns.boxplot(x=var1, y=var2, data=data)\n",
    "        elif 'continuo' in types and 'discreto' in types:\n",
    "            sns.scatterplot(x=var1, y=var2, data=data)\n",
    "        elif type1 == 'fecha' or type2 == 'fecha':\n",
    "            data[var1] = pd.to_datetime(data[var1])\n",
    "            data[var2] = pd.to_datetime(data[var2])\n",
    "            sns.lineplot(x=var1, y=var2, data=data)\n",
    "        plt.title(f'Bivariate Plot of {var1} and {var2}')\n",
    "        plt.show()\n",
    "\n",
    "    def multivariate_plot(self, data, variables, types):\n",
    "        plt.figure()\n",
    "        if 'nominal' in types or 'ordinal' in types:\n",
    "            sns.pairplot(data[variables], hue=variables[0])\n",
    "        elif 'continuo' in types and 'discreto' in types:\n",
    "            sns.pairplot(data[variables])\n",
    "        elif 'fecha' in types:\n",
    "            for var in variables:\n",
    "                data[var] = pd.to_datetime(data[var])\n",
    "            sns.lineplot(data=data[variables])\n",
    "        plt.title('Multivariate Plot')\n",
    "        plt.show()"
   ]
  }
 ],
 "metadata": {
  "kernelspec": {
   "display_name": "bootcamp-ds-wXHT794i-py3.12",
   "language": "python",
   "name": "python3"
  },
  "language_info": {
   "codemirror_mode": {
    "name": "ipython",
    "version": 3
   },
   "file_extension": ".py",
   "mimetype": "text/x-python",
   "name": "python",
   "nbconvert_exporter": "python",
   "pygments_lexer": "ipython3",
   "version": "3.12.6"
  }
 },
 "nbformat": 4,
 "nbformat_minor": 2
}
